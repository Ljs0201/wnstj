{
  "nbformat": 4,
  "nbformat_minor": 0,
  "metadata": {
    "colab": {
      "provenance": [],
      "authorship_tag": "ABX9TyP4hLvQxq2oXy2eUjftJ/Jx",
      "include_colab_link": true
    },
    "kernelspec": {
      "name": "python3",
      "display_name": "Python 3"
    },
    "language_info": {
      "name": "python"
    }
  },
  "cells": [
    {
      "cell_type": "markdown",
      "metadata": {
        "id": "view-in-github",
        "colab_type": "text"
      },
      "source": [
        "<a href=\"https://colab.research.google.com/github/Ljs0201/wnstj/blob/main/Untitled8.ipynb\" target=\"_parent\"><img src=\"https://colab.research.google.com/assets/colab-badge.svg\" alt=\"Open In Colab\"/></a>"
      ]
    },
    {
      "cell_type": "code",
      "execution_count": null,
      "metadata": {
        "id": "Llkvyo7aAx3Q"
      },
      "outputs": [],
      "source": [
        "def solution(price, grade):\n",
        "  discount= 0\n",
        "  if grade ==\"S\":\n",
        "    discount=0.05\n",
        "  elif grade ==\"G\":\n",
        "    discount=0.1\n",
        "  elif grade ==\"V\":\n",
        "    discount=0.15\n",
        "  discount_price = price - (price * discount)\n",
        "  return discount_price\n",
        "\n",
        "price1 = int(input(\"가격을 입력하세요\"))\n",
        "grade1 = str(input(\"등급을 입력하세요(V등급,G등급,S등급)\"))\n",
        "ret = solution(price1, grade1)\n",
        "\n",
        "print(grade1, \"회원님\", int(price1), \"원 상품을\",int(ret),\"원에 구매하세요.\")"
      ]
    }
  ]
}