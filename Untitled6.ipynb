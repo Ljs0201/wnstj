{
  "nbformat": 4,
  "nbformat_minor": 0,
  "metadata": {
    "colab": {
      "provenance": [],
      "authorship_tag": "ABX9TyOxRuD0TgeGXoR+w6KO1GLJ",
      "include_colab_link": true
    },
    "kernelspec": {
      "name": "python3",
      "display_name": "Python 3"
    },
    "language_info": {
      "name": "python"
    }
  },
  "cells": [
    {
      "cell_type": "markdown",
      "metadata": {
        "id": "view-in-github",
        "colab_type": "text"
      },
      "source": [
        "<a href=\"https://colab.research.google.com/github/Ljs0201/wnstj/blob/main/Untitled6.ipynb\" target=\"_parent\"><img src=\"https://colab.research.google.com/assets/colab-badge.svg\" alt=\"Open In Colab\"/></a>"
      ]
    },
    {
      "cell_type": "code",
      "execution_count": 3,
      "metadata": {
        "colab": {
          "base_uri": "https://localhost:8080/"
        },
        "id": "yvgmYXYo_rVt",
        "outputId": "431a1efa-c722-4d58-ab5e-7141355d10f9"
      },
      "outputs": [
        {
          "output_type": "stream",
          "name": "stdout",
          "text": [
            "[180, 170, 199, 182, 172, 177]\n"
          ]
        }
      ],
      "source": [
        "student=[180,170,164,199,182,172,177]\n",
        "d=[]\n",
        "for i in student:\n",
        "  if i>=170 :\n",
        "    d.append(i)\n",
        "print(d)"
      ]
    }
  ]
}