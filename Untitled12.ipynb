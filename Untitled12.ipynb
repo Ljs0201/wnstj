{
  "nbformat": 4,
  "nbformat_minor": 0,
  "metadata": {
    "colab": {
      "provenance": [],
      "authorship_tag": "ABX9TyMzTarvC7xmVRvGibrjScXL",
      "include_colab_link": true
    },
    "kernelspec": {
      "name": "python3",
      "display_name": "Python 3"
    },
    "language_info": {
      "name": "python"
    }
  },
  "cells": [
    {
      "cell_type": "markdown",
      "metadata": {
        "id": "view-in-github",
        "colab_type": "text"
      },
      "source": [
        "<a href=\"https://colab.research.google.com/github/Ljs0201/wnstj/blob/main/Untitled12.ipynb\" target=\"_parent\"><img src=\"https://colab.research.google.com/assets/colab-badge.svg\" alt=\"Open In Colab\"/></a>"
      ]
    },
    {
      "cell_type": "code",
      "execution_count": 7,
      "metadata": {
        "colab": {
          "base_uri": "https://localhost:8080/"
        },
        "id": "xp70VV8_71e7",
        "outputId": "49a281c2-f4ac-4f72-959a-8f4d8dccb940"
      },
      "outputs": [
        {
          "output_type": "stream",
          "name": "stdout",
          "text": [
            "연산할 갑5\n",
            "연산자/\n",
            "연산할 갑4\n",
            "5 / 4 = 1.25\n"
          ]
        }
      ],
      "source": [
        "a = int(input(\"연산할 갑\"))\n",
        "b = input(\"연산자\")\n",
        "c = int(input(\"연산할 갑\"))\n",
        "\n",
        "if (b == \"+\") :\n",
        "  print(a, \"+\", c, \"=\", a+c)\n",
        "elif (b == \"-\"):\n",
        "  print(a, \"-\", c, \"=\", a-c)\n",
        "elif (b == \"*\"):\n",
        "  print(a, \"*\", c, \"=\", a*c)\n",
        "elif (b == \"/\"):\n",
        "  print(a, \"/\", c, \"=\", a/c)"
      ]
    }
  ]
}