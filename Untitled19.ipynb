{
  "nbformat": 4,
  "nbformat_minor": 0,
  "metadata": {
    "colab": {
      "provenance": [],
      "authorship_tag": "ABX9TyOk8YzUuYJh/bWJ+UlrH/kA",
      "include_colab_link": true
    },
    "kernelspec": {
      "name": "python3",
      "display_name": "Python 3"
    },
    "language_info": {
      "name": "python"
    }
  },
  "cells": [
    {
      "cell_type": "markdown",
      "metadata": {
        "id": "view-in-github",
        "colab_type": "text"
      },
      "source": [
        "<a href=\"https://colab.research.google.com/github/Ljs0201/wnstj/blob/main/Untitled19.ipynb\" target=\"_parent\"><img src=\"https://colab.research.google.com/assets/colab-badge.svg\" alt=\"Open In Colab\"/></a>"
      ]
    },
    {
      "cell_type": "code",
      "execution_count": 14,
      "metadata": {
        "colab": {
          "base_uri": "https://localhost:8080/"
        },
        "id": "3Btz3Q-kQj6F",
        "outputId": "7c9decd4-cf42-4fe6-d0f9-81cacad08d76"
      },
      "outputs": [
        {
          "output_type": "stream",
          "name": "stdout",
          "text": [
            "65\n",
            "업\n",
            "70\n",
            "업\n",
            "80\n",
            "업\n",
            "90\n",
            "다운\n",
            "85\n",
            "정답입니다\n",
            "5 번만큼 시도하셨습니다\n"
          ]
        }
      ],
      "source": [
        "import random\n",
        "rn = random.randrange(1,101,1)\n",
        "\n",
        "i = 0\n",
        "while(True):\n",
        "  a= int(input())\n",
        "  i = i+1\n",
        "  if a > rn:\n",
        "    print('다운')\n",
        "    continue\n",
        "  if a < rn:\n",
        "    print('업')\n",
        "    continue\n",
        "  if a == rn:\n",
        "    print('정답입니다')\n",
        "    break\n",
        "print(i,\"번만큼 시도하셨습니다\")"
      ]
    },
    {
      "cell_type": "code",
      "source": [],
      "metadata": {
        "id": "XIipCliCWcr8"
      },
      "execution_count": null,
      "outputs": []
    }
  ]
}